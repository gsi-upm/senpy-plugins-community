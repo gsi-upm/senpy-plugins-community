{
 "cells": [
  {
   "cell_type": "code",
   "execution_count": 1,
   "metadata": {
    "collapsed": true
   },
   "outputs": [],
   "source": [
    "from __future__ import division\n",
    "import re\n",
    "import nltk\n",
    "import logging\n",
    "import os\n",
    "import string\n",
    "import xml.etree.ElementTree as ET\n",
    "from nltk.corpus import stopwords\n",
    "from nltk.corpus import WordNetCorpusReader\n",
    "from emotion import Emotion as Emo\n",
    "from senpy.plugins import EmotionPlugin, SenpyPlugin, ShelfMixin\n",
    "from senpy.models import Results, EmotionSet, Entry, Emotion\n"
   ]
  },
  {
   "cell_type": "code",
   "execution_count": 5,
   "metadata": {
    "collapsed": false
   },
   "outputs": [],
   "source": [
    "# wn16 = WordNetCorpusReader(os.path.abspath(\"{0}\".format(self._wn16_path)), nltk.data.find(self._wn16_path))\n",
    "wn16_path = \"/data/emotion-wnaffect/wordnet1.6/dict\"\n",
    "wn16 = WordNetCorpusReader(wn16_path, nltk.data.find(wn16_path))\n",
    "#  the second param should be an omw_reader !! (:"
   ]
  },
  {
   "cell_type": "code",
   "execution_count": null,
   "metadata": {
    "collapsed": false
   },
   "outputs": [],
   "source": [
    "wn16.synsets(\"sad\")"
   ]
  },
  {
   "cell_type": "code",
   "execution_count": 3,
   "metadata": {
    "collapsed": false
   },
   "outputs": [
    {
     "name": "stdout",
     "output_type": "stream",
     "text": [
      "[nltk_data] Downloading package omw to /home/ianwoo/nltk_data...\n",
      "[nltk_data]   Package omw is already up-to-date!\n"
     ]
    },
    {
     "data": {
      "text/plain": [
       "True"
      ]
     },
     "execution_count": 3,
     "metadata": {},
     "output_type": "execute_result"
    }
   ],
   "source": [
    "nltk.download(\"omw\")"
   ]
  },
  {
   "cell_type": "markdown",
   "metadata": {},
   "source": [
    "## testing nltk.corpus.stopwords for multilingual text"
   ]
  },
  {
   "cell_type": "code",
   "execution_count": 40,
   "metadata": {
    "collapsed": false
   },
   "outputs": [
    {
     "data": {
      "text/plain": [
       "['Stopwords Corpus',\n",
       " 'This corpus contains lists of stop words for several languages.  These',\n",
       " 'are high-frequency grammatical words which are usually ignored in text',\n",
       " 'retrieval applications.',\n",
       " 'They were obtained from:',\n",
       " 'http://anoncvs.postgresql.org/cvsweb.cgi/pgsql/src/backend/snowball/stopwords/',\n",
       " 'The English list has been augmented',\n",
       " 'https://github.com/nltk/nltk_data/issues/22',\n",
       " 'The German list has been corrected',\n",
       " 'https://github.com/nltk/nltk_data/pull/49',\n",
       " 'A Kazakh list has been added',\n",
       " 'https://github.com/nltk/nltk_data/pull/52']"
      ]
     },
     "execution_count": 40,
     "metadata": {},
     "output_type": "execute_result"
    }
   ],
   "source": [
    "stopwords.words(\"README\")"
   ]
  },
  {
   "cell_type": "markdown",
   "metadata": {},
   "source": [
    "## nltk.corpus.wn and multilingual wn experiments"
   ]
  },
  {
   "cell_type": "code",
   "execution_count": 3,
   "metadata": {
    "collapsed": false
   },
   "outputs": [
    {
     "name": "stdout",
     "output_type": "stream",
     "text": [
      "eng als arb bul cat cmn dan ell eus fas fin fra glg heb hrv ind ita jpn nno nob pol por qcn slv spa swe tha zsm\n",
      "28\n",
      "bg cs da de el es et fi fr ga hr hu it lt lv mt nl pl pt ro sk sl sv\n",
      "23\n"
     ]
    }
   ],
   "source": [
    "from nltk.corpus import wordnet as wn\n",
    "print(\" \".join(l for l in wn.langs() if len(l)==3))\n",
    "print(sum(1 for l in wn.langs() if len(l)==3))\n",
    "print(\" \".join(sorted(l for l in wn.langs() if len(l)==2)))\n",
    "print(sum(1 for l in wn.langs() if len(l)==2))\n",
    "# print()\n",
    "# print(\", \".join(sorted(l for l in wn.langs())))"
   ]
  },
  {
   "cell_type": "code",
   "execution_count": 33,
   "metadata": {
    "collapsed": false
   },
   "outputs": [
    {
     "data": {
      "text/plain": [
       "'1361863-a'"
      ]
     },
     "execution_count": 33,
     "metadata": {},
     "output_type": "execute_result"
    }
   ],
   "source": [
    "from nltk.corpus import wordnet as wn\n",
    "syn = wn.synsets(\"sad\")[0]\n",
    "\"%d-%s\"%(syn.offset(), syn.pos())"
   ]
  },
  {
   "cell_type": "code",
   "execution_count": 48,
   "metadata": {
    "collapsed": false
   },
   "outputs": [
    {
     "name": "stdout",
     "output_type": "stream",
     "text": [
      "31 <class 'list'>\n",
      "25\n"
     ]
    }
   ],
   "source": [
    "syns = wn.synsets(\"hlad\",lang='cs')\n",
    "print(len(syns), type(syns))\n",
    "print(len(set(syn.offset() for syn in syns)))"
   ]
  },
  {
   "cell_type": "code",
   "execution_count": 2,
   "metadata": {
    "collapsed": false
   },
   "outputs": [],
   "source": [
    "Emo.emotions = {}\n",
    "# This is not changed from the original\n",
    "def _load_emotions(self, hierarchy_path):\n",
    "    \"\"\"Loads the hierarchy of emotions from the WordNet-Affect xml.\"\"\"\n",
    "\n",
    "    tree = ET.parse(hierarchy_path)\n",
    "    root = tree.getroot()\n",
    "    for elem in root.findall(\"categ\"):\n",
    "        name = elem.get(\"name\")\n",
    "        if name == \"root\":\n",
    "            Emo.emotions[\"root\"] = Emo(\"root\")\n",
    "        else:\n",
    "            Emo.emotions[name] = Emo(name, elem.get(\"isa\"))\n",
    "_load_emotions(None, \"wn-affect-1.1/a-hierarchy.xml\")"
   ]
  },
  {
   "cell_type": "code",
   "execution_count": 14,
   "metadata": {
    "collapsed": false
   },
   "outputs": [],
   "source": [
    "mapping_wn16_30_path = \"mapping-16-30\"\n",
    "wn16_30 = {}\n",
    "pos_mapping_suffixes = {\"a\":\"adj\", \"r\":\"adv\", \"n\":\"noun\", \"v\":\"verb\"}\n",
    "# for pos in (\"a\", \"r\", \"n\", \"v\"):\n",
    "for pos,suffix in pos_mapping_suffixes.items():\n",
    "    mapping = {}\n",
    "    path = os.path.join(mapping_wn16_30_path,\"wn16-30.{0}\".format(suffix))\n",
    "    with open(path) as f:\n",
    "        for l in f:\n",
    "            l = l.split()\n",
    "            # get mapping with greatest probability\n",
    "            target, prob = 0, 0\n",
    "            for t,p in zip(l[1::2],l[2::2]):\n",
    "                p = float(p.strip())\n",
    "                if p>prob:\n",
    "                    target,prob = t,p\n",
    "            mapping[int(l[0])] = int(target)\n",
    "    wn16_30[pos] = mapping\n",
    "    \n",
    "\n",
    "def _convert_wn_16_30(self, pos, wn16_offset):\n",
    "    return wn16_30[pos][wn16_offset]"
   ]
  },
  {
   "cell_type": "code",
   "execution_count": 4,
   "metadata": {
    "collapsed": true
   },
   "outputs": [],
   "source": [
    "    unconvertedSynsetIds = []\n",
    "\n",
    "    def _load_synsets(self, synsets_path):\n",
    "        \"\"\"Returns a dictionary synset offset -> emotion (int -> str).\"\"\"\n",
    "        # \"\"\"Returns a dictionary POS tag -> synset offset -> emotion (str -> int -> str).\"\"\"\n",
    "        def convertId(wn16id):\n",
    "            pos_char,wn16_offset = wn16id.split(\"#\")\n",
    "            try:\n",
    "                return \"{0}-{1}\".format(wn16_30[pos_char][int(wn16_offset)], pos_char)\n",
    "            except KeyError:\n",
    "                # unconvertedSynsetIds.append((wn16id, pos_char, wn16_offset))\n",
    "                return None\n",
    "\n",
    "        tree = ET.parse(synsets_path)\n",
    "        root = tree.getroot()\n",
    "\n",
    "        synsets = {}\n",
    "        pending = []\n",
    "        for pos in [\"noun\", \"adj\", \"verb\", \"adv\"]:\n",
    "            for elem in root.findall(\".//{0}-syn-list//{0}-syn\".format(pos)):\n",
    "                idd = elem.get(\"id\")\n",
    "                wn30_id = convertId(idd)\n",
    "                if wn30_id is None: \n",
    "                    continue\n",
    "                if elem.get(\"categ\"):\n",
    "                    synsets[wn30_id] = Emo.emotions[elem.get(\"categ\")] if elem.get(\"categ\") in Emo.emotions else None\n",
    "                elif elem.get(\"noun-id\"):\n",
    "                    try:\n",
    "                        synsets[wn30_id] = synsets[convertId(elem.get(\"noun-id\"))]\n",
    "                    except KeyError:\n",
    "                        newid = convertId(elem.get(\"noun-id\"))\n",
    "                        if newid is not None:\n",
    "                            pending.append((wn30_id, newid))\n",
    "        for (wn30_id, noun_id) in pending:\n",
    "            try:\n",
    "                synsets[wn30_id] = synsets[noun_id]\n",
    "            except KeyError:\n",
    "                print(\"trouble with id\",wn30_id, noun_id)\n",
    "                raise\n",
    "        return synsets\n"
   ]
  },
  {
   "cell_type": "code",
   "execution_count": 5,
   "metadata": {
    "collapsed": false
   },
   "outputs": [],
   "source": [
    "wnaff = _load_synsets(None, \"wn-affect-1.1/a-synsets.xml\")"
   ]
  },
  {
   "cell_type": "code",
   "execution_count": 17,
   "metadata": {
    "collapsed": false
   },
   "outputs": [
    {
     "data": {
      "text/plain": [
       "False"
      ]
     },
     "execution_count": 17,
     "metadata": {},
     "output_type": "execute_result"
    }
   ],
   "source": [
    "1361863 in wnaff"
   ]
  },
  {
   "cell_type": "code",
   "execution_count": 19,
   "metadata": {
    "collapsed": false
   },
   "outputs": [
    {
     "data": {
      "text/plain": [
       "['7513508-n', '822907-a', '7531998-n', '173498-r', '7517292-n']"
      ]
     },
     "execution_count": 19,
     "metadata": {},
     "output_type": "execute_result"
    }
   ],
   "source": [
    "list(wnaff.keys())[:5]"
   ]
  },
  {
   "cell_type": "code",
   "execution_count": 6,
   "metadata": {
    "collapsed": false
   },
   "outputs": [
    {
     "data": {
      "text/plain": [
       "[('a#00196250', 'a', '00196250')]"
      ]
     },
     "execution_count": 6,
     "metadata": {},
     "output_type": "execute_result"
    }
   ],
   "source": [
    "unconvertedSynsetIds"
   ]
  },
  {
   "cell_type": "markdown",
   "metadata": {},
   "source": [
    "The one id that doesn't convert to wn3.0 is **a#00196250** but its wn-affect category is **calmness**, which currently has no Ekman emotion associated."
   ]
  },
  {
   "cell_type": "code",
   "execution_count": 7,
   "metadata": {
    "collapsed": false
   },
   "outputs": [
    {
     "name": "stdout",
     "output_type": "stream",
     "text": [
      "     ┌physical-state 1\n",
      "     ├behaviour 1\n",
      "     ├trait 1\n",
      "     ├sensation 1\n",
      "     ├situation 1┐\n",
      "     │         └emotion-eliciting-situation 2\n",
      "     ├signal 1┐\n",
      "     │      └edonic-signal 2\n",
      " root 0┤\n",
      "     │            ┌cognitive-state 2\n",
      "     │            ├cognitive-affective-state 2\n",
      "     └mental-state 1┤\n",
      "                  │               ┌mood 3\n",
      "                  └affective-state 2┤\n",
      "                                  │                              ┌emotionlessness 6\n",
      "                                  │                       ┌apathy 5┤\n",
      "                                  │                       │      └neutral-languor 6\n",
      "                                  │       ┌neutral-emotion 4┤\n",
      "                                  │       │               └neutral-unconcern 5┐\n",
      "                                  │       │                                 │            ┌distance 7\n",
      "                                  │       │                                 └indifference 6┤\n",
      "                                  │       │                                              └withdrawal 7\n",
      "                                  │       │                 ┌thing 5\n",
      "                                  │       │                 ├pensiveness 5\n",
      "                                  │       │                 ├gravity 5┐\n",
      "                                  │       │                 │       └earnestness 6\n",
      "                                  │       │                 ├ambiguous-fear 5┐\n",
      "                                  │       │                 │              └reverence 6\n",
      "                                  │       │                 │                     ┌ambiguous-hope 6\n",
      "                                  │       │                 ├ambiguous-expectation 5┤\n",
      "                                  │       │                 │                     └fever 6┐\n",
      "                                  │       │                 │                           └buck-fever 7\n",
      "                                  │       ├ambiguous-emotion 4┤\n",
      "                                  │       │                 │                   ┌unrest 6\n",
      "                                  │       │                 │                   ├tumult 6\n",
      "                                  │       │                 ├ambiguous-agitation 5┤\n",
      "                                  │       │                 │                   │    ┌electricity 7\n",
      "                                  │       │                 │                   └stir 6┤\n",
      "                                  │       │                 │                        └sensation 7\n",
      "                                  │       │                 └surprise 5┐\n",
      "                                  │       │                          │            ┌surprise 7\n",
      "                                  │       │                          │            ├stupefaction 7\n",
      "                                  │       │                          └astonishment 6┤\n",
      "                                  │       │                                       └wonder 7┐\n",
      "                                  │       │                                              └awe 8\n",
      "                                  │       │                ┌gratitude 5┐\n",
      "                                  │       │                │         └gratefulness 6\n",
      "                                  │       │                ├levity 5┐\n",
      "                                  │       │                │      └playfulness 6\n",
      "                                  │       │                ├positive-fear 5┐\n",
      "                                  │       │                │             └frisson 6\n",
      "                                  │       │                ├fearlessness 5┐\n",
      "                                  │       │                │            └security 6┐\n",
      "                                  │       │                │                     └confidence 7\n",
      "                                  │       │                ├positive-expectation 5┐\n",
      "                                  │       │                │                    └anticipation 6┐\n",
      "                                  │       │                │                                 └positive-suspense 7\n",
      "                                  │       │                │          ┌self-esteem 6\n",
      "                                  │       │                ├self-pride 5┤\n",
      "                                  │       │                │          ├amour-propre 6\n",
      "                                  │       │                │          └ego 6\n",
      "                                  │       │                │         ┌attachment 6\n",
      "                                  │       │                │         ├protectiveness 6\n",
      "                                  │       │                ├affection 5┤\n",
      "                                  │       │                │         ├soft-spot 6\n",
      "                                  │       │                │         └regard 6\n",
      "                                  │       │                │          ┌gusto 6\n",
      "                                  │       │                │          ├exuberance 6\n",
      "                                  │       │                ├enthusiasm 5┤\n",
      "                                  │       │                │          └eagerness 6┐\n",
      "                                  │       │                │                    └enthusiasm-ardor 7\n",
      "                                  │       │                │             ┌hopefulness 6\n",
      "                                  │       │                │             ├encouragement 6\n",
      "                                  │       │                ├positive-hope 5┤\n",
      "                                  │       │                │             └optimism 6┐\n",
      "                                  │       │                │                      └sanguinity 7\n",
      "                                  │       │                │        ┌placidity 6\n",
      "                                  │       │                │        ├coolness 6\n",
      "                                  │       │                ├calmness 5┤\n",
      "                                  │       │                │        │            ┌peace 7\n",
      "                                  │       │                │        └tranquillity 6┤\n",
      "                                  │       │                │                     └easiness 7┐\n",
      "                                  │       │                │                              └positive-languor 8\n",
      "                                  │       │                │    ┌worship 6\n",
      "                                  │       │                │    ├love-ardor 6\n",
      "                                  │       │                │    ├amorousness 6\n",
      "                                  │       │                │    ├puppy-love 6\n",
      "                                  │       │                │    ├devotion 6\n",
      "                                  │       │                ├love 5┤\n",
      "                                  │       │                │    ├lovingness 6┐\n",
      "                                  │       │                │    │          └warmheartedness 7\n",
      "                                  │       │                │    ├benevolence 6┐\n",
      "                                  │       │                │    │           └beneficence 7\n",
      "                                  │       │                │    └loyalty 6\n",
      "                                  │       ├positive-emotion 4┤\n",
      "                                  │       │                │   ┌amusement 6\n",
      "                                  │       │                │   ├exuberance 6\n",
      "                                  │       │                │   ├happiness 6\n",
      "                                  │       │                │   ├bonheur 6\n",
      "                                  │       │                │   ├gladness 6\n",
      "                                  │       │                │   ├rejoicing 6\n",
      "                                  │       │                │   ├elation 6┐\n",
      "                                  │       │                │   │       └euphoria 7\n",
      "                                  │       │                │   ├exultation 6┐\n",
      "                                  │       │                │   │          └triumph 7\n",
      "                                  │       │                │   │            ┌bang 7\n",
      "                                  │       │                │   ├exhilaration 6┤\n",
      "                                  │       │                │   │            └titillation 7\n",
      "                                  │       │                ├joy 5┤\n",
      "                                  │       │                │   ├contentment 6┐\n",
      "                                  │       │                │   │           │            ┌satisfaction-pride 8\n",
      "                                  │       │                │   │           │            ├fulfillment 8\n",
      "                                  │       │                │   │           └satisfaction 7┤\n",
      "                                  │       │                │   │                        ├complacency 8┐\n",
      "                                  │       │                │   │                        │           └smugness 9\n",
      "                                  │       │                │   │                        └gloat 8\n",
      "                                  │       │                │   │         ┌comfortableness 7\n",
      "                                  │       │                │   ├belonging 6┤\n",
      "                                  │       │                │   │         └closeness 7┐\n",
      "                                  │       │                │   │                   └togetherness 8\n",
      "                                  │       │                │   │         ┌hilarity 7\n",
      "                                  │       │                │   ├merriment 6┤\n",
      "                                  │       │                │   │         ├jollity 7\n",
      "                                  │       │                │   │         └jocundity 7\n",
      "                                  │       │                │   │            ┌buoyancy 7\n",
      "                                  │       │                │   └cheerfulness 6┤\n",
      "                                  │       │                │                └carefreeness 7\n",
      "                                  │       │                │      ┌fondness 6\n",
      "                                  │       │                │      ├captivation 6\n",
      "                                  │       │                │      ├preference 6┐\n",
      "                                  │       │                │      │          └weakness 7\n",
      "                                  │       │                │      ├approval 6┐\n",
      "                                  │       │                │      │        └favor 7\n",
      "                                  │       │                │      ├admiration 6┐\n",
      "                                  │       │                │      │          └hero-worship 7\n",
      "                                  │       │                └liking 5┤\n",
      "                                  │       │                       │        ┌kindheartedness 7\n",
      "                                  │       │                       │        ├compatibility 7\n",
      "                                  │       │                       ├sympathy 6┤\n",
      "                                  │       │                       │        ├empathy 7┐\n",
      "                                  │       │                       │        │       └identification 8\n",
      "                                  │       │                       │        └positive-concern 7┐\n",
      "                                  │       │                       │                         └softheartedness 8\n",
      "                                  │       │                       │            ┌amicability 7\n",
      "                                  │       │                       └friendliness 6┤\n",
      "                                  │       │                                    ├brotherhood 7\n",
      "                                  │       │                                    └good-will 7\n",
      "                                  └emotion 3┤\n",
      "                                          │                ┌ingratitude 5\n",
      "                                          │                ├daze 5\n",
      "                                          │                │        ┌self-depreciation 6\n",
      "                                          │                ├humility 5┤\n",
      "                                          │                │        └meekness 6\n",
      "                                          │                │          ┌commiseration 6\n",
      "                                          │                │          ├tenderness 6\n",
      "                                          │                ├compassion 5┤\n",
      "                                          │                │          └mercifulness 6┐\n",
      "                                          │                │                       └forgiveness 7\n",
      "                                          │                │       ┌hopelessness 6\n",
      "                                          │                │       ├resignation 6┐\n",
      "                                          │                │       │           └defeatism 7\n",
      "                                          │                ├despair 5┤\n",
      "                                          │                │       ├pessimism 6┐\n",
      "                                          │                │       │         └cynicism 7\n",
      "                                          │                │       └discouragement 6┐\n",
      "                                          │                │                      └despair-intimidation 7\n",
      "                                          │                │     ┌conscience 6\n",
      "                                          │                │     ├self-disgust 6\n",
      "                                          │                ├shame 5┤\n",
      "                                          │                │     │             ┌self-consciousness 7\n",
      "                                          │                │     │             ├shamefacedness 7\n",
      "                                          │                │     │             ├chagrin 7\n",
      "                                          │                │     └embarrassment 6┤\n",
      "                                          │                │                   ├discomfiture 7\n",
      "                                          │                │                   ├abashment 7\n",
      "                                          │                │                   └confusion 7\n",
      "                                          │                │       ┌discomfiture 6\n",
      "                                          │                │       ├distress 6\n",
      "                                          │                │       ├negative-concern 6\n",
      "                                          │                │       ├anxiousness 6\n",
      "                                          │                │       ├insecurity 6\n",
      "                                          │                │       ├edginess 6\n",
      "                                          │                │       ├sinking 6\n",
      "                                          │                │       ├scruple 6\n",
      "                                          │                ├anxiety 5┤\n",
      "                                          │                │       │                  ┌stewing 7\n",
      "                                          │                │       │                  ├tumult 7\n",
      "                                          │                │       ├negative-agitation 6┤\n",
      "                                          │                │       │                  └fidget 7┐\n",
      "                                          │                │       │                         └impatience 8\n",
      "                                          │                │       ├solicitude 6\n",
      "                                          │                │       ├anxiousness 6\n",
      "                                          │                │       ├angst 6\n",
      "                                          │                │       └jitteriness 6\n",
      "                                          │                │             ┌alarm 6\n",
      "                                          │                │             ├creeps 6\n",
      "                                          │                │             ├horror 6\n",
      "                                          │                │             ├hysteria 6\n",
      "                                          │                │             ├panic 6\n",
      "                                          │                │             ├scare 6\n",
      "                                          │                │             ├stage-fright 6\n",
      "                                          │                │             ├fear-intimidation 6\n",
      "                                          │                │             ├negative-unconcern 6┐\n",
      "                                          │                │             │                  └heartlessness 7┐\n",
      "                                          │                │             │                                └cruelty 8\n",
      "                                          │                ├negative-fear 5┤\n",
      "                                          │                │             │            ┌trepidation 7\n",
      "                                          │                │             │            ├negative-suspense 7\n",
      "                                          │                │             │            ├chill 7\n",
      "                                          │                │             ├apprehension 6┤\n",
      "                                          │                │             │            │          ┌shadow 8\n",
      "                                          │                │             │            └foreboding 7┤\n",
      "                                          │                │             │                       └presage 8\n",
      "                                          │                │             │        ┌shyness 7\n",
      "                                          │                │             └timidity 6┤\n",
      "                                          │                │                      │          ┌hesitance 8\n",
      "                                          │                │                      └diffidence 7┤\n",
      "                                          │                │                                 └unassertiveness 8\n",
      "                                          └negative-emotion 4┤\n",
      "                                                           │                       ┌disinclination 7\n",
      "                                                           │                       ├unfriendliness 7\n",
      "                                                           │                       ├antipathy 7\n",
      "                                                           │                       ├disapproval 7\n",
      "                                                           │                       ├contempt 7\n",
      "                                                           │               ┌dislike 6┤\n",
      "                                                           │               │       │       ┌repugnance 8\n",
      "                                                           │               │       ├disgust 7┤\n",
      "                                                           │               │       │       └nausea 8\n",
      "                                                           │               │       └alienation 7┐\n",
      "                                                           │               │                  └isolation 8\n",
      "                                                           ├general-dislike 5┤\n",
      "                                                           │               │    ┌abhorrence 7\n",
      "                                                           │               │    ├misanthropy 7\n",
      "                                                           │               │    ├misogamy 7\n",
      "                                                           │               │    ├misogyny 7\n",
      "                                                           │               │    ├misology 7\n",
      "                                                           │               │    ├misopedia 7\n",
      "                                                           │               │    ├murderousness 7\n",
      "                                                           │               │    ├despisal 7\n",
      "                                                           │               │    ├misoneism 7┐\n",
      "                                                           │               │    │         └misocainea 8\n",
      "                                                           │               │    │           ┌maleficence 8\n",
      "                                                           │               │    ├malevolence 7┤\n",
      "                                                           │               │    │           ├vindictiveness 8\n",
      "                                                           │               │    │           └malice 8\n",
      "                                                           │               ├hate 6┤\n",
      "                                                           │               │    │         ┌animosity 8\n",
      "                                                           │               │    │         ├class-feeling 8\n",
      "                                                           │               │    │         ├antagonism 8\n",
      "                                                           │               │    │         ├aggression 8\n",
      "                                                           │               │    │         ├belligerence 8┐\n",
      "                                                           │               │    │         │            └warpath 9\n",
      "                                                           │               │    └hostility 7┤\n",
      "                                                           │               │              │          ┌heartburning 9\n",
      "                                                           │               │              │          ├sulkiness 9\n",
      "                                                           │               │              │          ├grudge 9\n",
      "                                                           │               │              └resentment 8┤\n",
      "                                                           │               │                         │    ┌covetousness 10\n",
      "                                                           │               │                         └envy 9┤\n",
      "                                                           │               │                              └jealousy 10\n",
      "                                                           │               │     ┌infuriation 7\n",
      "                                                           │               │     ├umbrage 7\n",
      "                                                           │               │     ├huffiness 7\n",
      "                                                           │               │     ├dander 7\n",
      "                                                           │               │     ├indignation 7┐\n",
      "                                                           │               │     │           └dudgeon 8\n",
      "                                                           │               │     │    ┌wrath 8\n",
      "                                                           │               │     ├fury 7┤\n",
      "                                                           │               │     │    └lividity 8\n",
      "                                                           │               └anger 6┤\n",
      "                                                           │                     │         ┌pique 8\n",
      "                                                           │                     │         ├frustration 8\n",
      "                                                           │                     ├annoyance 7┤\n",
      "                                                           │                     │         ├displeasure 8\n",
      "                                                           │                     │         ├harassment 8\n",
      "                                                           │                     │         └aggravation 8\n",
      "                                                           │                     │          ┌irascibility 8\n",
      "                                                           │                     └bad-temper 7┤\n",
      "                                                           │                                └fit 8\n",
      "                                                           │       ┌dolefulness 6\n",
      "                                                           │       ├misery 6\n",
      "                                                           │       ├forlornness 6\n",
      "                                                           │       ├weepiness 6\n",
      "                                                           │       ├downheartedness 6\n",
      "                                                           │       ├cheerlessness 6┐\n",
      "                                                           │       │             └joylessness 7\n",
      "                                                           │       │          ┌gloom 7\n",
      "                                                           │       ├melancholy 6┤\n",
      "                                                           │       │          ├world-weariness 7\n",
      "                                                           │       │          └heavyheartedness 7\n",
      "                                                           └sadness 5┤\n",
      "                                                                   │                    ┌attrition 8\n",
      "                                                                   │      ┌regret-sorrow 7┤\n",
      "                                                                   │      │             │           ┌guilt 9\n",
      "                                                                   │      │             └compunction 8┤\n",
      "                                                                   │      │                         └repentance 9\n",
      "                                                                   ├sorrow 6┤\n",
      "                                                                   │      │           ┌self-pity 8\n",
      "                                                                   │      │           ├grief 8┐\n",
      "                                                                   │      │           │     └dolor 9\n",
      "                                                                   │      └lost-sorrow 7┤\n",
      "                                                                   │                  │            ┌woe 9\n",
      "                                                                   │                  └mournfulness 8┤\n",
      "                                                                   │                               └plaintiveness 9\n",
      "                                                                   │          ┌demoralization 7\n",
      "                                                                   │          ├helplessness 7\n",
      "                                                                   │          ├dysphoria 7\n",
      "                                                                   └depression 6┤\n",
      "                                                                              ├oppression 7┐\n",
      "                                                                              │          └weight 8\n",
      "                                                                              └despondency 7┐\n",
      "                                                                                          └blue-devils 8\n"
     ]
    }
   ],
   "source": [
    "Emo.printTree()"
   ]
  },
  {
   "cell_type": "code",
   "execution_count": 13,
   "metadata": {
    "collapsed": false
   },
   "outputs": [
    {
     "data": {
      "text/plain": [
       "{'foo', 'fum'}"
      ]
     },
     "execution_count": 13,
     "metadata": {},
     "output_type": "execute_result"
    }
   ],
   "source": [
    "set([\"foo\",\"fum\"])"
   ]
  },
  {
   "cell_type": "code",
   "execution_count": 11,
   "metadata": {
    "collapsed": false
   },
   "outputs": [
    {
     "name": "stdout",
     "output_type": "stream",
     "text": [
      "fearlessness                  5 positive-emotion\n",
      "liking                        5 positive-emotion\n",
      "love                          5 positive-emotion\n",
      "sadness                       5 negative-emotion\n",
      "self-pride                    5 positive-emotion\n",
      "shame                         5 negative-emotion\n",
      "negative-fear                 5 negative-emotion\n",
      "anxiety                       5 negative-emotion\n",
      "calmness                      5 positive-emotion\n",
      "compassion                    5 negative-emotion\n",
      "levity                        5 positive-emotion\n",
      "ambiguous-fear                5 ambiguous-emotion\n",
      "humility                      5 negative-emotion\n",
      "pensiveness                   5 ambiguous-emotion\n",
      "daze                          5 negative-emotion\n",
      "ambiguous-agitation           5 ambiguous-emotion\n",
      "positive-hope                 5 positive-emotion\n",
      "thing                         5 ambiguous-emotion\n",
      "positive-expectation          5 positive-emotion\n",
      "despair                       5 negative-emotion\n",
      "neutral-unconcern             5 neutral-emotion\n",
      "ingratitude                   5 negative-emotion\n",
      "enthusiasm                    5 positive-emotion\n",
      "positive-fear                 5 positive-emotion\n",
      "gravity                       5 ambiguous-emotion\n",
      "apathy                        5 neutral-emotion\n",
      "affection                     5 positive-emotion\n",
      "general-dislike               5 negative-emotion\n",
      "ambiguous-expectation         5 ambiguous-emotion\n",
      "joy                           5 positive-emotion\n",
      "gratitude                     5 positive-emotion\n"
     ]
    }
   ],
   "source": [
    "for level in (5,):\n",
    "    for name, emo in Emo.emotions.items():\n",
    "        if emo.level == level:\n",
    "            print(\"%-28s %2d %s\"%(emo.name, emo.level, emo.parent))"
   ]
  },
  {
   "cell_type": "code",
   "execution_count": 118,
   "metadata": {
    "collapsed": false,
    "scrolled": true
   },
   "outputs": [
    {
     "name": "stdout",
     "output_type": "stream",
     "text": [
      "surprise 7 astonishment []\n",
      "surprise 7 astonishment []\n",
      "surprise 7 astonishment []\n",
      "surprise 7 astonishment []\n",
      "surprise 7 astonishment []\n",
      "surprise 7 astonishment []\n",
      "surprise 7 astonishment []\n"
     ]
    },
    {
     "data": {
      "text/plain": [
       "True"
      ]
     },
     "execution_count": 118,
     "metadata": {},
     "output_type": "execute_result"
    }
   ],
   "source": [
    "categories = set()\n",
    "for idd,emo in wnaff.items():\n",
    "    #print(idd,\":\",emo)\n",
    "    categories.add(str(emo))\n",
    "    if str(emo) == 'surprise':\n",
    "        print(emo.name, emo.level, emo.parent, [e.name for e in emo.children])\n",
    "'surprise' in categories"
   ]
  },
  {
   "cell_type": "markdown",
   "metadata": {},
   "source": [
    "# Below uses pattern package - Python 2 only!!"
   ]
  },
  {
   "cell_type": "code",
   "execution_count": 17,
   "metadata": {
    "collapsed": false
   },
   "outputs": [
    {
     "name": "stdout",
     "output_type": "stream",
     "text": [
      "I/PRP/B-NP/O/i had/VBD/B-VP/O/have a/DT/B-NP/O/a tomato/NN/I-NP/O/tomato at/IN/B-PP/B-PNP/at the/DT/B-NP/I-PNP/the shop/NN/I-NP/I-PNP/shop ././O/O/.\n",
      "[[[u'I', u'PRP', u'B-NP', u'O', u'i'], [u'had', u'VBD', u'B-VP', u'O', u'have'], [u'a', u'DT', u'B-NP', u'O', u'a'], [u'tomato', u'NN', u'I-NP', u'O', u'tomato'], [u'at', u'IN', u'B-PP', u'B-PNP', u'at'], [u'the', u'DT', u'B-NP', u'I-PNP', u'the'], [u'shop', u'NN', u'I-NP', u'I-PNP', u'shop'], [u'.', u'.', u'O', u'O', u'.']]]\n",
      "\n",
      "\n",
      "      I     PRP    B-NP       O       i\n",
      "    had     VBD    B-VP       O    have\n",
      "      a      DT    B-NP       O       a\n",
      " tomato      NN    I-NP       O  tomato\n",
      "     at      IN    B-PP   B-PNP      at\n",
      "    the      DT    B-NP   I-PNP     the\n",
      "   shop      NN    I-NP   I-PNP    shop\n",
      "      .       .       O       O       .\n",
      "\n"
     ]
    }
   ],
   "source": [
    "from pattern.en import parse\n",
    "\n",
    "text = \"I had a tomato at the shop.\"\n",
    "sentencesP = parse(text,lemmata=True)\n",
    "print sentencesP\n",
    "sentencesP.split??\n",
    "sentences = sentencesP.split()\n",
    "print sentences\n",
    "print\n",
    "for s in sentences:\n",
    "    print\n",
    "    for w in s:\n",
    "        for p in w:\n",
    "            print \"%7s\"%p,\n",
    "        print\n",
    "print"
   ]
  }
 ],
 "metadata": {
  "anaconda-cloud": {},
  "kernelspec": {
   "display_name": "Python [default]",
   "language": "python",
   "name": "python3"
  },
  "language_info": {
   "codemirror_mode": {
    "name": "ipython",
    "version": 3
   },
   "file_extension": ".py",
   "mimetype": "text/x-python",
   "name": "python",
   "nbconvert_exporter": "python",
   "pygments_lexer": "ipython3",
   "version": "3.5.0"
  }
 },
 "nbformat": 4,
 "nbformat_minor": 2
}
